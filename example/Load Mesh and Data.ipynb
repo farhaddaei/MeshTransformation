{
 "cells": [
  {
   "cell_type": "code",
   "execution_count": 1,
   "metadata": {},
   "outputs": [],
   "source": [
    "import numpy as np\n",
    "from DataSet import DataSet as DS"
   ]
  },
  {
   "cell_type": "code",
   "execution_count": 2,
   "metadata": {},
   "outputs": [],
   "source": [
    "data = np.load(\"/proj/farhadda/div_E_U_2011-06-05T05-36-00_B.npz\")\n",
    "ds1 = DS(SystemOfCoords=\"CAR\", BaseAddress=\"/home/farhadda/mnt/data/11226/Output_Sim_Omega_Small/\", Pattern=\"*.npz\", NBlocks=10, UseBlock=0)\n",
    "\n",
    "ds1.Scalar(\"Bx\", \"FaceX\", ds1.Adummy)\n",
    "ds1.vars[\"Bx\"][\"val\"] = data[\"arr_0\"]\n",
    "\n",
    "ds1.Scalar(\"By\", \"FaceY\", ds1.Adummy)\n",
    "ds1.vars[\"By\"][\"val\"] = data[\"arr_1\"]\n",
    "\n",
    "ds1.Scalar(\"Bz\", \"FaceZ\", ds1.Adummy)\n",
    "ds1.vars[\"Bz\"][\"val\"] = data[\"arr_2\"]\n",
    "\n",
    "del data\n",
    "\n",
    "ds1.ExtractAFromBFace(\"Bx\", \"By\", \"Bz\", \"Ax\", \"Ay\", \"Az\")\n",
    "\n",
    "ds1.CurlFaceToEdge(\"Bx\", \"By\", \"Bz\", \"Jx\", \"Jy\", \"Jz\")\n",
    "\n",
    "ds1.AvgFaceToCell(\"Bx\", \"By\", \"Bz\", \"BXc\", \"BYc\", \"BZc\")\n",
    "ds1.AvgEdgeToCell(\"Jx\", \"Jy\", \"Jz\", \"JXc\", \"JYc\", \"JZc\")\n",
    "ds1.Cross(\"JXc\", \"JYc\", \"JZc\", \"BXc\", \"BYc\", \"BZc\", \"Fx\", \"Fy\", \"Fz\")"
   ]
  },
  {
   "cell_type": "code",
   "execution_count": 3,
   "metadata": {},
   "outputs": [],
   "source": [
    "ds2 = DS(SystemOfCoords=\"CAR\", BaseAddress=\"/proj/farhadda/data/11226/Output_Sim_Omega/\", Pattern=\"*.npz\", NBlocks=20, UseBlock=0)\n",
    "\n",
    "ds1.ToNewMesh(ds2, \"Ax\", \"EdgeX\")\n",
    "ds1.ToNewMesh(ds2, \"Ay\", \"EdgeY\")\n",
    "ds2.Scalar(\"Az\", \"EdgeZ\", ds2.Adummy)\n",
    "\n",
    "ds1.Write2HDF5(\"div_E_U_2011-06-05T05-36-00_B_Initial_mesh.h5\")\n",
    "\n",
    "del ds1\n",
    "\n",
    "ds2.CurlEdgeToFace(\"Ax\", \"Ay\", \"Az\", \"Bx\", \"By\", \"Bz\")\n",
    "ds2.CurlFaceToEdge(\"Bx\", \"By\", \"Bz\", \"Jx\", \"Jy\", \"Jz\")\n",
    "ds2.AvgFaceToCell(\"Bx\", \"By\", \"Bz\", \"BXc\", \"BYc\", \"BZc\")\n",
    "ds2.AvgEdgeToCell(\"Jx\", \"Jy\", \"Jz\", \"JXc\", \"JYc\", \"JZc\")\n",
    "\n",
    "ds2.Cross(\"JXc\", \"JYc\", \"JZc\", \"BXc\", \"BYc\", \"BZc\", \"Fx\", \"Fy\", \"Fz\")\n",
    "ds2.Write2HDF5(\"div_E_U_2011-06-05T05-36-00_B_Interpolated.h5\")\n",
    "\n",
    "del ds2\n"
   ]
  },
  {
   "cell_type": "code",
   "execution_count": null,
   "metadata": {},
   "outputs": [],
   "source": []
  }
 ],
 "metadata": {
  "kernelspec": {
   "display_name": "Python 3",
   "language": "python",
   "name": "python3"
  },
  "language_info": {
   "codemirror_mode": {
    "name": "ipython",
    "version": 3
   },
   "file_extension": ".py",
   "mimetype": "text/x-python",
   "name": "python",
   "nbconvert_exporter": "python",
   "pygments_lexer": "ipython3",
   "version": "3.7.7"
  },
  "widgets": {
   "application/vnd.jupyter.widget-state+json": {
    "state": {},
    "version_major": 2,
    "version_minor": 0
   }
  }
 },
 "nbformat": 4,
 "nbformat_minor": 4
}
