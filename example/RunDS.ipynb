{
 "cells": [
  {
   "cell_type": "code",
   "execution_count": 1,
   "metadata": {},
   "outputs": [],
   "source": [
    "import numpy as np\n",
    "from DataSet import DataSet as DS"
   ]
  },
  {
   "cell_type": "code",
   "execution_count": 2,
   "metadata": {
    "collapsed": true,
    "jupyter": {
     "outputs_hidden": true
    }
   },
   "outputs": [
    {
     "ename": "FileNotFoundError",
     "evalue": "[Errno 2] No such file or directory: '/proj/farhadda/div_E_U_2011-06-05T05-36-00_B.npz'",
     "output_type": "error",
     "traceback": [
      "\u001b[0;31m---------------------------------------------------------------------------\u001b[0m",
      "\u001b[0;31mFileNotFoundError\u001b[0m                         Traceback (most recent call last)",
      "\u001b[0;32m<ipython-input-2-4126fa36d6b4>\u001b[0m in \u001b[0;36m<module>\u001b[0;34m\u001b[0m\n\u001b[0;32m----> 1\u001b[0;31m \u001b[0mdata\u001b[0m \u001b[0;34m=\u001b[0m \u001b[0mnp\u001b[0m\u001b[0;34m.\u001b[0m\u001b[0mload\u001b[0m\u001b[0;34m(\u001b[0m\u001b[0;34m\"/proj/farhadda/div_E_U_2011-06-05T05-36-00_B.npz\"\u001b[0m\u001b[0;34m)\u001b[0m\u001b[0;34m\u001b[0m\u001b[0;34m\u001b[0m\u001b[0m\n\u001b[0m\u001b[1;32m      2\u001b[0m \u001b[0mBx\u001b[0m \u001b[0;34m=\u001b[0m \u001b[0mdata\u001b[0m\u001b[0;34m[\u001b[0m\u001b[0;34m\"arr_0\"\u001b[0m\u001b[0;34m]\u001b[0m\u001b[0;34m\u001b[0m\u001b[0;34m\u001b[0m\u001b[0m\n\u001b[1;32m      3\u001b[0m \u001b[0mBy\u001b[0m \u001b[0;34m=\u001b[0m \u001b[0mdata\u001b[0m\u001b[0;34m[\u001b[0m\u001b[0;34m\"arr_1\"\u001b[0m\u001b[0;34m]\u001b[0m\u001b[0;34m\u001b[0m\u001b[0;34m\u001b[0m\u001b[0m\n\u001b[1;32m      4\u001b[0m \u001b[0mBz\u001b[0m \u001b[0;34m=\u001b[0m \u001b[0mdata\u001b[0m\u001b[0;34m[\u001b[0m\u001b[0;34m\"arr_2\"\u001b[0m\u001b[0;34m]\u001b[0m\u001b[0;34m\u001b[0m\u001b[0;34m\u001b[0m\u001b[0m\n",
      "\u001b[0;32m~/bin/anaconda3/envs/Field/lib/python3.8/site-packages/numpy/lib/npyio.py\u001b[0m in \u001b[0;36mload\u001b[0;34m(file, mmap_mode, allow_pickle, fix_imports, encoding)\u001b[0m\n\u001b[1;32m    426\u001b[0m         \u001b[0mown_fid\u001b[0m \u001b[0;34m=\u001b[0m \u001b[0;32mFalse\u001b[0m\u001b[0;34m\u001b[0m\u001b[0;34m\u001b[0m\u001b[0m\n\u001b[1;32m    427\u001b[0m     \u001b[0;32melse\u001b[0m\u001b[0;34m:\u001b[0m\u001b[0;34m\u001b[0m\u001b[0;34m\u001b[0m\u001b[0m\n\u001b[0;32m--> 428\u001b[0;31m         \u001b[0mfid\u001b[0m \u001b[0;34m=\u001b[0m \u001b[0mopen\u001b[0m\u001b[0;34m(\u001b[0m\u001b[0mos_fspath\u001b[0m\u001b[0;34m(\u001b[0m\u001b[0mfile\u001b[0m\u001b[0;34m)\u001b[0m\u001b[0;34m,\u001b[0m \u001b[0;34m\"rb\"\u001b[0m\u001b[0;34m)\u001b[0m\u001b[0;34m\u001b[0m\u001b[0;34m\u001b[0m\u001b[0m\n\u001b[0m\u001b[1;32m    429\u001b[0m         \u001b[0mown_fid\u001b[0m \u001b[0;34m=\u001b[0m \u001b[0;32mTrue\u001b[0m\u001b[0;34m\u001b[0m\u001b[0;34m\u001b[0m\u001b[0m\n\u001b[1;32m    430\u001b[0m \u001b[0;34m\u001b[0m\u001b[0m\n",
      "\u001b[0;31mFileNotFoundError\u001b[0m: [Errno 2] No such file or directory: '/proj/farhadda/div_E_U_2011-06-05T05-36-00_B.npz'"
     ]
    }
   ],
   "source": [
    "data = np.load(\"/proj/farhadda/div_E_U_2011-06-05T05-36-00_B.npz\")\n",
    "Bx = data[\"arr_0\"]\n",
    "By = data[\"arr_1\"]\n",
    "Bz = data[\"arr_2\"]"
   ]
  },
  {
   "cell_type": "code",
   "execution_count": null,
   "metadata": {},
   "outputs": [],
   "source": [
    "ds1 = DS(SystemOfCoords=\"CAR\", BaseAddress=\"/proj/farhadda/data/11226/Output_Sim_Omega/\", Pattern=\"*.npz\", NBlocks=20, UseBlock=0)\n",
    "if(ds1.FaceX[\"X\"].shape == Bx.shape, ds1.FaceY[\"Y\"].shape == By.shape, ds1.FaceZ[\"Z\"].shape == Bz.shape):\n",
    "    print(\"Mesh size is compatibale with input data, u can proceed \")"
   ]
  },
  {
   "cell_type": "code",
   "execution_count": null,
   "metadata": {},
   "outputs": [],
   "source": [
    "ds1.vars[\"Bx\"] = dict()\n",
    "ds1.vars[\"Bx\"][\"Location\"] = \"FaceX\"\n",
    "ds1.vars[\"Bx\"][\"val\"] = Bx\n",
    "\n",
    "ds1.vars[\"By\"] = dict()\n",
    "ds1.vars[\"By\"][\"Location\"] = \"FaceY\"\n",
    "ds1.vars[\"By\"][\"val\"] = By\n",
    "\n",
    "ds1.vars[\"Bz\"] = dict()\n",
    "ds1.vars[\"Bz\"][\"Location\"] = \"FaceZ\"\n",
    "ds1.vars[\"Bz\"][\"val\"] = Bz"
   ]
  },
  {
   "cell_type": "code",
   "execution_count": null,
   "metadata": {},
   "outputs": [],
   "source": [
    "def Adummy(Coord):\n",
    "    \"\"\"\n",
    "    Adummy returns an array with same shape as input coordinate array\n",
    "    with zero values.\n",
    "    \"\"\"\n",
    "    return np.zeros_like(Coord['X'])\n",
    "\n",
    "ds1.Scalar(\"Ax\", \"EdgeX\", Adummy)\n",
    "ds1.Scalar(\"Ay\", \"EdgeY\", Adummy)\n",
    "ds1.Scalar(\"Az\", \"EdgeZ\", Adummy)"
   ]
  },
  {
   "cell_type": "markdown",
   "metadata": {},
   "source": [
    "First Step:\n",
    "-----------\n",
    "\\begin{eqnarray}\n",
    "A_x(x, y_1, z_2) &=& 0 \\\\\n",
    "A_y(x_1, y, z_2) &=& 0\n",
    "\\end{eqnarray}\n",
    "\n",
    "Second Step:\n",
    "------------\n",
    "\\begin{eqnarray}\n",
    "A_x(x_i, y_{j+1/2}, z_2) =   A_x(x_i, y_{j-1/2}, z_2) - \\frac{\\Delta y}{2} B_z(x_i, y_j, z_2) \\\\\n",
    "A_y(x_{i+1/2}, y_j, z_2) =   A_y(x_{i-1/2}, y_j, z_2) + \\frac{\\Delta x}{2} B_z(x_i, y_j, z_2)\n",
    "\\end{eqnarray}\n",
    "\n",
    "Final Step:\n",
    "------------\n",
    "\\begin{eqnarray}\n",
    "A_x(x, y, z_{k-1}) = A_x(x, y, z_k) - \\int_{-\\Delta z}^0 dz^* B_y(x, y, z^*+z_k) \\\\\n",
    "\\end{eqnarray}\n",
    "and same goes for $A_{y}$-comp"
   ]
  },
  {
   "cell_type": "code",
   "execution_count": null,
   "metadata": {},
   "outputs": [],
   "source": [
    "## First Step, these values are zero, just to emphasis\n",
    "ds1.vars[\"Ax\"][\"val\"][:, 0, -1] = 0.0\n",
    "ds1.vars[\"Ay\"][\"val\"][0, :, -1] = 0.0\n",
    "\n",
    "## Second Step, Assuming dy and dx are uniform @ upper boundery\n",
    "dx = ds1.geo[\"x\"][1:] - ds1.geo[\"x\"][:-1]\n",
    "dy = ds1.geo[\"y\"][1:] - ds1.geo[\"y\"][:-1]\n",
    "dz = ds1.geo[\"z\"][1:] - ds1.geo[\"z\"][:-1]\n",
    "for i in range(dx.size):\n",
    "    for j in range(dy.size):\n",
    "        ds1.vars[\"Ax\"][\"val\"][i, j+1, -1] = ds1.vars[\"Ax\"][\"val\"][i, j, -1] - 0.5 * dy[j] * ds1.vars[\"Bz\"][\"val\"][i, j, -1]\n",
    "    \n",
    "for j in range(dy.size):\n",
    "    for i in range(dx.size):\n",
    "        ds1.vars[\"Ay\"][\"val\"][i+1, j, -1] = ds1.vars[\"Ay\"][\"val\"][i, j, -1] - 0.5 * dx[i] * ds1.vars[\"Bz\"][\"val\"][i, j, -1]\n",
    "\n",
    "## Final Step,\n",
    "for k in range(dz.size - 2, -1, -1):\n",
    "    for i in range(dx.size):\n",
    "        for j in range(dy.size + 1):\n",
    "            ds1.vars[\"Ax\"][\"val\"][i, j, k] = ds1.vars[\"Ax\"][\"val\"][i, j, k+1] - dz[k] * ds1.vars[\"By\"][\"val\"][i, j, k+1]\n",
    "\n",
    "    for j in range(dy.size):\n",
    "        for i in range(dx.size + 1):\n",
    "            #TODO :: is this equation ---<(signs)>--- correct?\n",
    "            ds1.vars[\"Ay\"][\"val\"][i, j, k] = ds1.vars[\"Ay\"][\"val\"][i, j, k+1] + dz[k] * ds1.vars[\"Bx\"][\"val\"][i, j, k+1]\n",
    "            \n",
    "ds1.Write2HDF5(\"/proj/farhadda/FirstTry.h5\", databasename=\"Timestep_0\")"
   ]
  },
  {
   "cell_type": "code",
   "execution_count": null,
   "metadata": {},
   "outputs": [],
   "source": [
    "ds2 = DS(SystemOfCoords=\"CAR\", BaseAddress=\"/proj/farhadda/data/11226/Output_Sim_Omega/\", Pattern=\"*.npz\", NBlocks=20, UseBlock=0)\n",
    "ds1.ToNewMesh(ds2, \"Ax\", \"EdgeX\")\n",
    "ds1.ToNewMesh(ds2, \"Ay\", \"EdgeY\")\n",
    "ds2.Scalar(\"Az\", \"EdgeZ\", Adummy)\n",
    "\n",
    "ds2.CurlEdgeToFace(\"Ax\", \"Ay\", \"Az\", \"BXf\", \"BYf\", \"BZf\")\n",
    "ds2.DivFace(\"BXf\", \"BYf\", \"BZf\", \"DivBf\")  # using A on Edges and B on Cells\n",
    "ds2.CurlFaceToEdge(\"BXf\", \"BYf\", \"BZf\", \"JXe\", \"JYe\", \"JZe\")\n",
    "ds2.AvgFaceToCell(\"BXf\", \"BYf\", \"BZf\", \"BXc\", \"BYc\", \"BZc\")\n",
    "ds2.AvgEdgeToCell(\"JXe\", \"JYe\", \"JZe\", \"JXc\", \"JYc\", \"JZc\")\n",
    "ds2.Cross(\"JXc\", \"JYc\", \"JZc\", \"BXc\", \"BYc\", \"BZc\", \"LFXc\", \"LFYc\", \"LFZc\")\n",
    "ds2.Write2HDF5(\"SecondDataSet.h5\")"
   ]
  },
  {
   "cell_type": "code",
   "execution_count": null,
   "metadata": {},
   "outputs": [],
   "source": []
  }
 ],
 "metadata": {
  "kernelspec": {
   "display_name": "Python 3",
   "language": "python",
   "name": "python3"
  },
  "language_info": {
   "codemirror_mode": {
    "name": "ipython",
    "version": 3
   },
   "file_extension": ".py",
   "mimetype": "text/x-python",
   "name": "python",
   "nbconvert_exporter": "python",
   "pygments_lexer": "ipython3",
   "version": "3.8.2"
  }
 },
 "nbformat": 4,
 "nbformat_minor": 4
}
