{
 "cells": [
  {
   "cell_type": "markdown",
   "metadata": {},
   "source": [
    "# Importing Libraries"
   ]
  },
  {
   "cell_type": "code",
   "execution_count": 1,
   "metadata": {},
   "outputs": [],
   "source": [
    "import matplotlib.pyplot as plt\n",
    "import numpy as np\n",
    "from DataSet import DataSet as DS\n",
    "%matplotlib qt"
   ]
  },
  {
   "cell_type": "markdown",
   "metadata": {},
   "source": [
    "# Building A Mesh and Loading $\\vec{B}$\n",
    "I used one of Daniel's data (output of MFM simulation)"
   ]
  },
  {
   "cell_type": "code",
   "execution_count": 2,
   "metadata": {},
   "outputs": [
    {
     "name": "stdout",
     "output_type": "stream",
     "text": [
      "---<( Input files include Ghost-Cells, those cells will be ignored )>---\n",
      "Following parameters are found in the given file :: \n",
      " Bx (defined on FaceX)\n",
      " By (defined on FaceY)\n",
      " Bz (defined on FaceZ)\n",
      "Bx\tis loaded successfully.\n",
      "By\tis loaded successfully.\n",
      "Bz\tis loaded successfully.\n",
      "Number of cells in each direction :  (249, 192, 229)\n"
     ]
    }
   ],
   "source": [
    "BaseAddress = \"/home/farhadda/BackUp/\"\n",
    "ds1 = DS(SystemOfCoords=\"CAR\", BaseAddress=BaseAddress,\n",
    "         Pattern=\"div_E_omega_2017-09-06T11-24-00.npz\",\n",
    "         NBlocks=1, UseBlock=0)\n",
    "print(\"Number of cells in each direction : \", ds1.NCell)"
   ]
  },
  {
   "cell_type": "markdown",
   "metadata": {},
   "source": [
    "# Check Div. B for input Magnetic Field"
   ]
  },
  {
   "cell_type": "code",
   "execution_count": 3,
   "metadata": {},
   "outputs": [
    {
     "name": "stdout",
     "output_type": "stream",
     "text": [
      "4.460892352578051e-05\t0.2916412353515625\t0.0\n",
      "[108] [98] [0]\n"
     ]
    }
   ],
   "source": [
    "ds1.DivFace(\"Bx\", \"By\", \"Bz\", \"DivB\")\n",
    "a = np.abs(ds1.vars[\"DivB\"]['val'])\n",
    "print(a.mean(), a.max(), a.min(), sep='\\t')\n",
    "print(*np.where(a == a.max()))"
   ]
  },
  {
   "cell_type": "markdown",
   "metadata": {},
   "source": [
    "# Notice :\n",
    "It seems that input magnetic field __is not  Div. Free__"
   ]
  },
  {
   "cell_type": "code",
   "execution_count": 4,
   "metadata": {},
   "outputs": [
    {
     "data": {
      "text/plain": [
       "<matplotlib.colorbar.Colorbar at 0x7f4d81687650>"
      ]
     },
     "execution_count": 4,
     "metadata": {},
     "output_type": "execute_result"
    }
   ],
   "source": [
    "ds1.ExtractAFromBFace(\"Bx\", \"By\", \"Bz\", \"Ax\", \"Ay\", \"Az\")\n",
    "ds1.CurlEdgeToFace(\"Ax\", \"Ay\", \"Az\", \"Bx2\", \"By2\", \"Bz2\")\n",
    "\n",
    "plt.figure()\n",
    "plt.imshow((ds1.vars[\"Bx\"]['val'][:, :, 0] -\n",
    "            ds1.vars[\"Bx2\"]['val'][:, :, 0]).T, origin=\"Lower Left\")\n",
    "plt.tight_layout()\n",
    "plt.title(r\"Diff $B_{x}$ on Bottom\")\n",
    "plt.colorbar()\n",
    "\n",
    "plt.figure()\n",
    "plt.imshow((ds1.vars[\"By\"]['val'][:, :, 0] -\n",
    "            ds1.vars[\"By2\"]['val'][:, :, 0]).T, origin=\"Lower Left\")\n",
    "plt.tight_layout()\n",
    "plt.title(r\"Diff $B_{y}$ on Bottom\")\n",
    "plt.colorbar()\n",
    "\n",
    "plt.figure()\n",
    "plt.imshow((ds1.vars[\"Bz\"]['val'][:, :, 0] -\n",
    "            ds1.vars[\"Bz2\"]['val'][:, :, 0]).T, origin=\"Lower Left\")\n",
    "plt.tight_layout()\n",
    "plt.title(r\"Diff $B_{z}$ on Bottom\")\n",
    "plt.colorbar()"
   ]
  },
  {
   "cell_type": "code",
   "execution_count": 11,
   "metadata": {},
   "outputs": [],
   "source": [
    "ds1.Write2HDF5(BaseAddress+\"InitialMesh.h5\")"
   ]
  },
  {
   "cell_type": "code",
   "execution_count": 13,
   "metadata": {},
   "outputs": [],
   "source": [
    "x0 = ds1.nodevect[\"X\"][0]\n",
    "x1 = ds1.nodevect[\"X\"][-1]\n",
    "y0 = ds1.nodevect[\"Y\"][0]\n",
    "y1 = ds1.nodevect[\"Y\"][-1]\n",
    "z0 = ds1.nodevect[\"Z\"][0]\n",
    "z1 = ds1.nodevect[\"Z\"][-1]\n",
    "ds2 = DS(SystemOfCoords=\"CAR\", NCell=ds1.NCell,\n",
    "         startval=(x0, y0, z0), endval=(x1, y1, z1))"
   ]
  },
  {
   "cell_type": "code",
   "execution_count": 15,
   "metadata": {},
   "outputs": [],
   "source": [
    "ds1.ToNewMesh(ds2, \"Ax\", \"EdgeX\")\n",
    "ds1.ToNewMesh(ds2, \"Ay\", \"EdgeY\")\n",
    "ds2.Scalar(\"Az\", \"EdgeZ\", ds2.Adummy)"
   ]
  },
  {
   "cell_type": "code",
   "execution_count": 16,
   "metadata": {},
   "outputs": [],
   "source": [
    "ds2.CurlEdgeToFace(\"Ax\", \"Ay\", \"Az\", \"Bx\", \"By\", \"Bz\")\n",
    "ds2.DivFace(\"Bx\", \"By\", \"Bz\", \"DivB\")"
   ]
  },
  {
   "cell_type": "code",
   "execution_count": 17,
   "metadata": {},
   "outputs": [],
   "source": [
    "ds2.Write2HDF5(BaseAddress+\"SecondMesh.h5\")"
   ]
  },
  {
   "cell_type": "code",
   "execution_count": 18,
   "metadata": {},
   "outputs": [],
   "source": [
    "del ds2"
   ]
  },
  {
   "cell_type": "code",
   "execution_count": 7,
   "metadata": {},
   "outputs": [],
   "source": [
    "ds3 = DS(SystemOfCoords=\"CAR\", NCell=(200, 180, 200),\n",
    "         startval=(x0, y0, z0), endval=(x1, y1, z1))"
   ]
  },
  {
   "cell_type": "code",
   "execution_count": 8,
   "metadata": {},
   "outputs": [],
   "source": [
    "ds1.ToNewMesh(ds3, \"Ax\", \"EdgeX\")\n",
    "ds1.ToNewMesh(ds3, \"Ay\", \"EdgeY\")\n",
    "ds3.Scalar(\"Az\", \"EdgeZ\", ds3.Adummy)"
   ]
  },
  {
   "cell_type": "code",
   "execution_count": 9,
   "metadata": {},
   "outputs": [],
   "source": [
    "ds3.CurlEdgeToFace(\"Ax\", \"Ay\", \"Az\", \"Bx\", \"By\", \"Bz\")\n",
    "ds3.DivFace(\"Bx\", \"By\", \"Bz\", \"DivB\")"
   ]
  },
  {
   "cell_type": "code",
   "execution_count": 10,
   "metadata": {},
   "outputs": [],
   "source": [
    "ds3.Write2HDF5(BaseAddress+\"ThirdMesh.h5\")"
   ]
  },
  {
   "cell_type": "code",
   "execution_count": null,
   "metadata": {},
   "outputs": [],
   "source": []
  }
 ],
 "metadata": {
  "kernelspec": {
   "display_name": "Python 3",
   "language": "python",
   "name": "python3"
  },
  "language_info": {
   "codemirror_mode": {
    "name": "ipython",
    "version": 3
   },
   "file_extension": ".py",
   "mimetype": "text/x-python",
   "name": "python",
   "nbconvert_exporter": "python",
   "pygments_lexer": "ipython3",
   "version": "3.7.7"
  },
  "widgets": {
   "application/vnd.jupyter.widget-state+json": {
    "state": {},
    "version_major": 2,
    "version_minor": 0
   }
  }
 },
 "nbformat": 4,
 "nbformat_minor": 4
}
