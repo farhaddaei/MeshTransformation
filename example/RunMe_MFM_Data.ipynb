{
 "cells": [
  {
   "cell_type": "markdown",
   "metadata": {},
   "source": [
    "# Importing Libraries"
   ]
  },
  {
   "cell_type": "code",
   "execution_count": 1,
   "metadata": {},
   "outputs": [],
   "source": [
    "import matplotlib.pyplot as plt\n",
    "import numpy as np\n",
    "from DataSet import DataSet as DS\n",
    "%matplotlib qt"
   ]
  },
  {
   "cell_type": "markdown",
   "metadata": {},
   "source": [
    "# Building A Mesh and Loading $\\vec{B}$\n",
    "I used one of Daniel's data (output of MFM simulation)"
   ]
  },
  {
   "cell_type": "code",
   "execution_count": 2,
   "metadata": {},
   "outputs": [
    {
     "name": "stdout",
     "output_type": "stream",
     "text": [
      "---<( Input files include Ghost-Cells, those cells will be ignored )>---\n",
      "Following parameters are found in the given file :: \n",
      " Bx (defined on FaceX)\n",
      " By (defined on FaceY)\n",
      " Bz (defined on FaceZ)\n",
      "Bx\tis loaded successfully.\n",
      "By\tis loaded successfully.\n",
      "Bz\tis loaded successfully.\n"
     ]
    }
   ],
   "source": [
    "BaseAddress = \"/home/farhadda/BackUp/\"\n",
    "ds1 = DS(SystemOfCoords=\"CAR\", BaseAddress=BaseAddress,\n",
    "         Pattern=\"div_E_omega_2017-09-06T11-24-00.npz\",\n",
    "         NBlocks=1, UseBlock=0)"
   ]
  },
  {
   "cell_type": "code",
   "execution_count": 4,
   "metadata": {},
   "outputs": [],
   "source": [
    "ds1.ExtractAFromBFace(\"Bx\", \"By\", \"Bz\", \"Ax\", \"Ay\", \"Az\")"
   ]
  },
  {
   "cell_type": "markdown",
   "metadata": {},
   "source": [
    "# Check Div. B for input Magnetic Field"
   ]
  },
  {
   "cell_type": "code",
   "execution_count": 3,
   "metadata": {},
   "outputs": [
    {
     "name": "stdout",
     "output_type": "stream",
     "text": [
      "4.460892352578051e-05\t0.2916412353515625\t0.0\n",
      "[108] [98] [0]\n"
     ]
    }
   ],
   "source": [
    "ds1.DivFace(\"Bx\", \"By\", \"Bz\", \"DivB\")\n",
    "a = np.abs(ds1.vars[\"DivB\"]['val'])\n",
    "print(a.mean(), a.max(), a.min(), sep='\\t')\n",
    "print(*np.where(a == a.max()))"
   ]
  },
  {
   "cell_type": "markdown",
   "metadata": {},
   "source": [
    "# Notice :\n",
    "It seems that input magnetic field __is not  Div. Free__"
   ]
  },
  {
   "cell_type": "code",
   "execution_count": null,
   "metadata": {},
   "outputs": [],
   "source": [
    "dx = ds1.nodevect['X'][1:] - ds1.nodevect['X'][:-1]\n",
    "dy = ds1.nodevect['Y'][1:] - ds1.nodevect['Y'][:-1]\n",
    "dz = ds1.nodevect['Z'][1:] - ds1.nodevect['Z'][:-1]\n",
    "BetaX = np.empty_like(ds1.EdgeX[\"X\"][:, :, 0])\n",
    "BetaY = np.empty_like(ds1.EdgeY[\"Y\"][:, :, 0])\n",
    "\n",
    "BetaX[:, 0] = 0.0\n",
    "BetaY[0, :] = 0.0\n",
    "BzOnTop = ds1.vars[\"Bz\"]['val'][:, :, -1]\n",
    "for j in range(1, dy.size + 1):\n",
    "    for i in range(dx.size):\n",
    "        BetaX[i, j] = -0.5 * np.sum(dy[:j] * BzOnTop[i, :j])\n",
    "\n",
    "for i in range(1, dx.size + 1):\n",
    "    for j in range(dy.size):\n",
    "        BetaY[i, j] = 0.5 * np.sum(dx[:i] * BzOnTop[:i, j])"
   ]
  },
  {
   "cell_type": "markdown",
   "metadata": {},
   "source": [
    "\\begin{eqnarray}\n",
    "A_x(x, y, z) &=& \\beta_x(x, y) - \\int_{z}^{z_2} dz' B_y(x, y, z') \\\\\n",
    "A_y(x, y, z) &=& \\beta_y(x, y) + \\int_{z}^{z_2} dz' B_x(x, y, z') \\\\\n",
    "A_z(x, y, z) &=& 0\n",
    "\\end{eqnarray}"
   ]
  },
  {
   "cell_type": "code",
   "execution_count": null,
   "metadata": {},
   "outputs": [],
   "source": [
    "ds1.Scalar(\"Ax\", \"EdgeX\", ds1.Adummy)\n",
    "ds1.Scalar(\"Ay\", \"EdgeY\", ds1.Adummy)\n",
    "ds1.Scalar(\"Az\", \"EdgeZ\", ds1.Adummy)"
   ]
  },
  {
   "cell_type": "code",
   "execution_count": null,
   "metadata": {},
   "outputs": [],
   "source": [
    "ds1.vars[\"Ax\"]['val'][:, :, -1] = BetaX[:, :]\n",
    "ds1.vars[\"Ay\"]['val'][:, :, -1] = BetaY[:, :]"
   ]
  },
  {
   "cell_type": "code",
   "execution_count": null,
   "metadata": {},
   "outputs": [],
   "source": [
    "for k in range(-2, -dz.size-2, -1):\n",
    "    BetaX[:, :] = BetaX[:, :] - dz[k + 1] * ds1.vars[\"By\"]['val'][:, :, k + 1]\n",
    "    BetaY[:, :] = BetaY[:, :] + dz[k + 1] * ds1.vars[\"Bx\"]['val'][:, :, k + 1]\n",
    "    ds1.vars[\"Ax\"]['val'][:, :, k] = BetaX[:, :]\n",
    "    ds1.vars[\"Ay\"]['val'][:, :, k] = BetaY[:, :]"
   ]
  },
  {
   "cell_type": "markdown",
   "metadata": {},
   "source": [
    "Now test if $\\nabla \\times \\vec{A}$ can reproduce the initial magnetic field with Div. free condition"
   ]
  },
  {
   "cell_type": "code",
   "execution_count": null,
   "metadata": {},
   "outputs": [],
   "source": [
    "ds1.CurlEdgeToFace(\"Ax\", \"Ay\", \"Az\", \"ABx\", \"ABy\", \"ABz\")\n",
    "ds1.DivFace(\"ABx\", \"ABy\", \"ABz\", \"DivAB\")"
   ]
  },
  {
   "cell_type": "code",
   "execution_count": null,
   "metadata": {},
   "outputs": [],
   "source": [
    "a = np.abs(ds1.vars[\"DivAB\"]['val'])\n",
    "print(a.mean(), a.max(), a.min(), sep='\\t')\n",
    "print(np.where(a == a.min())[0].shape)"
   ]
  },
  {
   "cell_type": "code",
   "execution_count": null,
   "metadata": {},
   "outputs": [],
   "source": [
    "plt.figure()\n",
    "plt.imshow((ds1.vars[\"Bx\"]['val'][:, :, 0] - ds1.vars[\"ABx\"]['val'][:, :, 0]).T, origin=\"Lower Left\")\n",
    "plt.tight_layout()\n",
    "plt.title(r\"Diff $B_{x}$ on Bottom\")\n",
    "plt.colorbar()"
   ]
  },
  {
   "cell_type": "code",
   "execution_count": null,
   "metadata": {},
   "outputs": [],
   "source": [
    "plt.figure()\n",
    "plt.imshow((ds1.vars[\"By\"]['val'][:, :, 0] - ds1.vars[\"ABy\"]['val'][:, :, 0]).T, origin=\"Lower Left\")\n",
    "plt.tight_layout()\n",
    "plt.title(r\"Diff $B_{y}$ on Bottom\")\n",
    "plt.colorbar()"
   ]
  },
  {
   "cell_type": "code",
   "execution_count": null,
   "metadata": {},
   "outputs": [],
   "source": [
    "plt.figure()\n",
    "plt.imshow((ds1.vars[\"Bz\"]['val'][:, :, 0] - ds1.vars[\"ABz\"]['val'][:, :, 0]).T, origin=\"Lower Left\")\n",
    "plt.tight_layout()\n",
    "plt.title(r\"Diff $B_{z}$ on Bottom\")\n",
    "plt.colorbar()"
   ]
  },
  {
   "cell_type": "code",
   "execution_count": null,
   "metadata": {},
   "outputs": [],
   "source": []
  }
 ],
 "metadata": {
  "kernelspec": {
   "display_name": "Python 3",
   "language": "python",
   "name": "python3"
  },
  "language_info": {
   "codemirror_mode": {
    "name": "ipython",
    "version": 3
   },
   "file_extension": ".py",
   "mimetype": "text/x-python",
   "name": "python",
   "nbconvert_exporter": "python",
   "pygments_lexer": "ipython3",
   "version": "3.7.7"
  },
  "widgets": {
   "application/vnd.jupyter.widget-state+json": {
    "state": {},
    "version_major": 2,
    "version_minor": 0
   }
  }
 },
 "nbformat": 4,
 "nbformat_minor": 4
}
