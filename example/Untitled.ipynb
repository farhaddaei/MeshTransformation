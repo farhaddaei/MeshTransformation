{
 "cells": [
  {
   "cell_type": "code",
   "execution_count": 2,
   "metadata": {},
   "outputs": [],
   "source": [
    "#!/usr/bin/env python\n",
    "from DataSet import DataSet as DS\n",
    "import astropy.constants as Const\n",
    "import numpy as np\n",
    "\n",
    "class ModelParameters(object): pass"
   ]
  },
  {
   "cell_type": "code",
   "execution_count": 3,
   "metadata": {},
   "outputs": [
    {
     "name": "stdout",
     "output_type": "stream",
     "text": [
      "---<( Input files include Ghost-Cells, those cells will be ignored )>---\n",
      "Following parameters are found in the given NPZ file/s :: \n",
      " Bx (defined on FaceX)\n",
      " By (defined on FaceY)\n",
      " Bz (defined on FaceZ)\n",
      "Following parameters are found in the given VTR file/s :: \n",
      " Jx (defined on Nodes)\n",
      " Jy (defined on Nodes)\n",
      " Jz (defined on Nodes)\n",
      " vx (defined on Nodes)\n",
      " vy (defined on Nodes)\n",
      " vz (defined on Nodes)\n",
      " nonohmic_resistivity (defined on Nodes)\n",
      " Bx (defined on Cells)\n",
      "---<( Bx already exists, old variable renamed to Bx_FaceX )>---\n",
      " By (defined on Cells)\n",
      "---<( By already exists, old variable renamed to By_FaceY )>---\n",
      " Bz (defined on Cells)\n",
      "---<( Bz already exists, old variable renamed to Bz_FaceZ )>---\n"
     ]
    }
   ],
   "source": [
    "BaseAddress = \"/home/sigma/PycharmProjects/\"\n",
    "ds1 = DS(SystemOfCoords=\"CAR\", BaseAddress=BaseAddress,\n",
    "         Pattern=\"div_E_omega_2017-09-06T09-24-00.npz\",\n",
    "         NBlocks=1, UseBlock=0)\n",
    "# print(\"Number of cells in each direction : \", ds1.NCell)\n",
    "ds1.LoadVTR(Pattern=\"div_E_omega_2017-09-06T09-24-00.vtr\",\n",
    "            BaseAddress=BaseAddress, Scale=1.e6)"
   ]
  },
  {
   "cell_type": "code",
   "execution_count": 4,
   "metadata": {},
   "outputs": [
    {
     "name": "stdout",
     "output_type": "stream",
     "text": [
      "249 192 229\n"
     ]
    }
   ],
   "source": [
    "NX, NY, NZ = ds1.NCell\n",
    "print(NX, NY, NZ)"
   ]
  },
  {
   "cell_type": "code",
   "execution_count": 20,
   "metadata": {},
   "outputs": [],
   "source": [
    "DividZAtIndx = 25\n",
    "NZ1 = 3 * DividZAtIndx\n",
    "NZ2 = NZ - DividZAtIndx\n",
    "FStart = [ds1.nodevect['X'][0] , ds1.nodevect['Y'][0] , [ds1.nodevect['Z'][0]           , ds1.nodevect['Z'][DividZAtIndx]]]\n",
    "FEnd   = [ds1.nodevect['X'][-1], ds1.nodevect['Y'][-1], [ds1.nodevect['Z'][DividZAtIndx], ds1.nodevect['Z'][-1]]]\n",
    "NCell = [NX, NY, [NZ1, NZ2]]\n",
    "Functions = ['linear', 'linear', ['linear', 'linear']]"
   ]
  },
  {
   "cell_type": "code",
   "execution_count": 21,
   "metadata": {},
   "outputs": [],
   "source": [
    "ds2 = DS(SystemOfCoords=\"CAR\", NCell=NCell, Functions=Functions, startval=FStart, endval=FEnd)"
   ]
  },
  {
   "cell_type": "code",
   "execution_count": 23,
   "metadata": {},
   "outputs": [
    {
     "name": "stdout",
     "output_type": "stream",
     "text": [
      "True\n",
      "True\n",
      "True\n",
      "X True\n",
      "Y True\n"
     ]
    }
   ],
   "source": [
    "print(ds2.nodevect[\"Z\"][0] == ds1.nodevect[\"Z\"][0])\n",
    "print(ds2.nodevect[\"Z\"][NZ1] == ds1.nodevect[\"Z\"][DividZAtIndx])\n",
    "print(ds2.nodevect[\"Z\"][-1] == ds1.nodevect[\"Z\"][-1])\n",
    "for d in [\"X\", \"Y\"]:\n",
    "    print(d, np.all(ds1.nodevect[d]==ds2.nodevect[d]))\n",
    "    "
   ]
  },
  {
   "cell_type": "code",
   "execution_count": 28,
   "metadata": {},
   "outputs": [],
   "source": [
    "for v in ['Jx', 'Jy', 'Jz', 'nonohmic_resistivity', 'Bx', 'By', 'Bz']:\n",
    "    del ds1.vars[v]"
   ]
  },
  {
   "cell_type": "code",
   "execution_count": 29,
   "metadata": {},
   "outputs": [],
   "source": [
    "ds1.ExtractAFromBFace('Bx_FaceX', 'By_FaceY', 'Bz_FaceZ', \"Ax\", \"Ay\", \"Az\")"
   ]
  },
  {
   "cell_type": "code",
   "execution_count": null,
   "metadata": {},
   "outputs": [],
   "source": []
  }
 ],
 "metadata": {
  "kernelspec": {
   "display_name": "Python 3",
   "language": "python",
   "name": "python3"
  },
  "language_info": {
   "codemirror_mode": {
    "name": "ipython",
    "version": 3
   },
   "file_extension": ".py",
   "mimetype": "text/x-python",
   "name": "python",
   "nbconvert_exporter": "python",
   "pygments_lexer": "ipython3",
   "version": "3.8.5"
  }
 },
 "nbformat": 4,
 "nbformat_minor": 4
}
