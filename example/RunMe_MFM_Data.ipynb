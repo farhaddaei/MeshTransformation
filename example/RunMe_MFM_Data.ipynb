{
 "cells": [
  {
   "cell_type": "markdown",
   "metadata": {},
   "source": [
    "# Importing Libraries"
   ]
  },
  {
   "cell_type": "code",
   "execution_count": 59,
   "metadata": {},
   "outputs": [],
   "source": [
    "import matplotlib.pyplot as plt\n",
    "import numpy as np\n",
    "\n",
    "from DataSet import DataSet as DS\n",
    "\n",
    "%matplotlib qt"
   ]
  },
  {
   "cell_type": "markdown",
   "metadata": {},
   "source": [
    "# Building A Mesh and Loading $\\vec{B}$\n",
    "I used one of Daniel's data (output of MFM simulation)"
   ]
  },
  {
   "cell_type": "code",
   "execution_count": 60,
   "metadata": {},
   "outputs": [
    {
     "name": "stdout",
     "output_type": "stream",
     "text": [
      "---<( Input files include Ghost-Cells, those cells will be ignored )>---\n",
      "Following parameters are found in the given file :: \n",
      " Bx (defined on FaceX)\n",
      " By (defined on FaceY)\n",
      " Bz (defined on FaceZ)\n"
     ]
    }
   ],
   "source": [
    "BaseAddress = \"/home/farhadda/BackUp/\"\n",
    "\n",
    "file = BaseAddress+'div_E_omega_2017-09-06T11-24-00.npz'\n",
    "data = np.load(file, allow_pickle=True, encoding=\"bytes\")\n",
    "ds1 = DS(SystemOfCoords=\"CAR\", BaseAddress=BaseAddress,\n",
    "         Pattern=\"div_E_omega_2017-09-06T11-24-00.npz\",\n",
    "         NBlocks=1, UseBlock=0)\n",
    "Beg = ds1.geo['num_ghost_cells'][0]\n",
    "for v in ds1.geo[\"vars\"].keys():\n",
    "    ds1.Scalar(v, ds1.geo[\"vars\"][v][\"Location\"], ds1.Adummy)\n",
    "    if Beg > 0:\n",
    "        ds1.vars[v][\"val\"] = data[v][Beg:-Beg, Beg:-Beg, Beg:-Beg]\n",
    "    else:\n",
    "        ds1.vars[v][\"val\"] = data[v]"
   ]
  },
  {
   "cell_type": "markdown",
   "metadata": {},
   "source": [
    "# Check Div. B for input Magnetic Field"
   ]
  },
  {
   "cell_type": "code",
   "execution_count": 61,
   "metadata": {},
   "outputs": [
    {
     "name": "stdout",
     "output_type": "stream",
     "text": [
      "4.460892352578051e-05\t0.2916412353515625\t0.0\n",
      "[108] [98] [0]\n"
     ]
    }
   ],
   "source": [
    "ds1.DivFace(\"Bx\", \"By\", \"Bz\", \"DivB\")\n",
    "a = np.abs(ds1.vars[\"DivB\"]['val'])\n",
    "print(a.mean(), a.max(), a.min(), sep='\\t')\n",
    "print(*np.where(a == a.max()))"
   ]
  },
  {
   "cell_type": "markdown",
   "metadata": {},
   "source": [
    "# Notice :\n",
    "It seems that input magnetic field is not  Div. Free, so to test \"Moving to new mesh\" method I will use the magnetic field extracted from vector potential field which itself is extracted from input magnetic field data\n",
    "\n",
    "Due to previous problems in extraction of $\\vec{A}$ from $\\vec{B}$ I need to implement this method differently:\n",
    "\\begin{eqnarray}\n",
    "\\beta_{x}(x, y_{1}) &=& 0 \\\\\n",
    "\\beta_{y}(x_{1}, y) &=& 0\n",
    "\\end{eqnarray}\n",
    "\n",
    "\\begin{eqnarray}\n",
    "\\beta_x(x, y) &=& - \\frac{1}{2} \\int_{y_1}^{y} dy' B_z(x, y', z_2) \\\\\n",
    "\\beta_y(x, y) &=&   \\frac{1}{2} \\int_{x_1}^{x} dx' B_z(x', y, z_2)\n",
    "\\end{eqnarray}\n"
   ]
  },
  {
   "cell_type": "code",
   "execution_count": 66,
   "metadata": {},
   "outputs": [],
   "source": [
    "dx = ds1.nodevect['X'][1:] - ds1.nodevect['X'][:-1]\n",
    "dy = ds1.nodevect['Y'][1:] - ds1.nodevect['Y'][:-1]\n",
    "dz = ds1.nodevect['Z'][1:] - ds1.nodevect['Z'][:-1]\n",
    "BetaX = np.empty_like(ds1.EdgeX[\"X\"][:, :, 0])\n",
    "BetaY = np.empty_like(ds1.EdgeY[\"Y\"][:, :, 0])\n",
    "\n",
    "BetaX[:, 0] = 0.0\n",
    "BetaY[0, :] = 0.0\n",
    "BzOnTop = ds1.vars[\"Bz\"]['val'][:, :, -1]\n",
    "for j in range(1, dy.size + 1):\n",
    "    for i in range(dx.size):\n",
    "        BetaX[i, j] = -0.5 * np.sum(dy[:j] * BzOnTop[i, :j])\n",
    "\n",
    "for i in range(1, dx.size + 1):\n",
    "    for j in range(dy.size):\n",
    "        BetaY[i, j] = 0.5 * np.sum(dx[:i] * BzOnTop[:i, j])"
   ]
  },
  {
   "cell_type": "markdown",
   "metadata": {},
   "source": [
    "\\begin{eqnarray}\n",
    "A_x(x, y, z) &=& \\beta_x(x, y) - \\int_{z}^{z_2} dz' B_y(x, y, z') \\\\\n",
    "A_y(x, y, z) &=& \\beta_y(x, y) + \\int_{z}^{z_2} dz' B_x(x, y, z') \\\\\n",
    "A_z(x, y, z) &=& 0\n",
    "\\end{eqnarray}"
   ]
  },
  {
   "cell_type": "code",
   "execution_count": 67,
   "metadata": {},
   "outputs": [],
   "source": [
    "ds1.Scalar(\"Ax\", \"EdgeX\", ds1.Adummy)\n",
    "ds1.Scalar(\"Ay\", \"EdgeY\", ds1.Adummy)\n",
    "ds1.Scalar(\"Az\", \"EdgeZ\", ds1.Adummy)"
   ]
  },
  {
   "cell_type": "code",
   "execution_count": 68,
   "metadata": {},
   "outputs": [],
   "source": [
    "ds1.vars[\"Ax\"]['val'][:, :, -1] = BetaX[:, :]\n",
    "ds1.vars[\"Ay\"]['val'][:, :, -1] = BetaY[:, :]"
   ]
  },
  {
   "cell_type": "code",
   "execution_count": 75,
   "metadata": {},
   "outputs": [],
   "source": [
    "for k in range(-2, -dz.size-2, -1):\n",
    "    BetaX[:, :] = BetaX[:, :] - dz[k + 1] * ds1.vars[\"By\"]['val'][:, :, k + 1]\n",
    "    BetaY[:, :] = BetaY[:, :] + dz[k + 1] * ds1.vars[\"Bx\"]['val'][:, :, k + 1]\n",
    "    ds1.vars[\"Ax\"]['val'][:, :, k] = BetaX[:, :]\n",
    "    ds1.vars[\"Ay\"]['val'][:, :, k] = BetaY[:, :]"
   ]
  },
  {
   "cell_type": "markdown",
   "metadata": {},
   "source": [
    "Now test if $\\nabla \\times \\vec{A}$ can reproduce the initial magnetic field with Div. free condition"
   ]
  },
  {
   "cell_type": "code",
   "execution_count": 77,
   "metadata": {},
   "outputs": [],
   "source": [
    "ds1.CurlEdgeToFace(\"Ax\", \"Ay\", \"Az\", \"ABx\", \"ABy\", \"ABz\")\n",
    "ds1.DivFace(\"ABx\", \"ABy\", \"ABz\", \"DivAB\")"
   ]
  },
  {
   "cell_type": "code",
   "execution_count": 85,
   "metadata": {},
   "outputs": [
    {
     "name": "stdout",
     "output_type": "stream",
     "text": [
      "2.0496285899200763e-07\t0.0001220703125\t0.0\n",
      "(3465780,)\n"
     ]
    }
   ],
   "source": [
    "a = np.abs(ds1.vars[\"DivAB\"]['val'])\n",
    "print(a.mean(), a.max(), a.min(), sep='\\t')\n",
    "print(np.where(a == a.min())[0].shape)"
   ]
  },
  {
   "cell_type": "code",
   "execution_count": 92,
   "metadata": {},
   "outputs": [
    {
     "data": {
      "text/plain": [
       "<matplotlib.colorbar.Colorbar at 0x7f3fd6228250>"
      ]
     },
     "execution_count": 92,
     "metadata": {},
     "output_type": "execute_result"
    }
   ],
   "source": [
    "plt.figure()\n",
    "plt.imshow((ds1.vars[\"Bx\"]['val'][:, :, 0] - ds1.vars[\"ABx\"]['val'][:, :, 0]).T, origin=\"Lower Left\")\n",
    "plt.tight_layout()\n",
    "plt.title(r\"Diff $B_{x}$ on Bottom\")\n",
    "plt.colorbar()"
   ]
  },
  {
   "cell_type": "code",
   "execution_count": 93,
   "metadata": {},
   "outputs": [
    {
     "data": {
      "text/plain": [
       "<matplotlib.colorbar.Colorbar at 0x7f3fc1d9a9d0>"
      ]
     },
     "execution_count": 93,
     "metadata": {},
     "output_type": "execute_result"
    }
   ],
   "source": [
    "plt.figure()\n",
    "plt.imshow((ds1.vars[\"By\"]['val'][:, :, 0] - ds1.vars[\"ABy\"]['val'][:, :, 0]).T, origin=\"Lower Left\")\n",
    "plt.tight_layout()\n",
    "plt.title(r\"Diff $B_{y}$ on Bottom\")\n",
    "plt.colorbar()"
   ]
  },
  {
   "cell_type": "code",
   "execution_count": 94,
   "metadata": {},
   "outputs": [
    {
     "data": {
      "text/plain": [
       "<matplotlib.colorbar.Colorbar at 0x7f3fc1a3c410>"
      ]
     },
     "execution_count": 94,
     "metadata": {},
     "output_type": "execute_result"
    }
   ],
   "source": [
    "plt.figure()\n",
    "plt.imshow((ds1.vars[\"Bz\"]['val'][:, :, 0] - ds1.vars[\"ABz\"]['val'][:, :, 0]).T, origin=\"Lower Left\")\n",
    "plt.tight_layout()\n",
    "plt.title(r\"Diff $B_{z}$ on Bottom\")\n",
    "plt.colorbar()"
   ]
  },
  {
   "cell_type": "code",
   "execution_count": null,
   "metadata": {},
   "outputs": [],
   "source": []
  }
 ],
 "metadata": {
  "kernelspec": {
   "display_name": "Python 3",
   "language": "python",
   "name": "python3"
  },
  "language_info": {
   "codemirror_mode": {
    "name": "ipython",
    "version": 3
   },
   "file_extension": ".py",
   "mimetype": "text/x-python",
   "name": "python",
   "nbconvert_exporter": "python",
   "pygments_lexer": "ipython3",
   "version": "3.7.7"
  },
  "widgets": {
   "application/vnd.jupyter.widget-state+json": {
    "state": {},
    "version_major": 2,
    "version_minor": 0
   }
  }
 },
 "nbformat": 4,
 "nbformat_minor": 4
}
