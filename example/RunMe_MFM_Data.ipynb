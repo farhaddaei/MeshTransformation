{
 "cells": [
  {
   "cell_type": "code",
   "execution_count": null,
   "metadata": {},
   "outputs": [],
   "source": []
  },
  {
   "cell_type": "code",
   "execution_count": 1,
   "metadata": {},
   "outputs": [],
   "source": [
    "import matplotlib.pyplot as plt\n",
    "import numpy as np\n",
    "\n",
    "from DataSet import DataSet as DS\n",
    "\n",
    "%matplotlib qt"
   ]
  },
  {
   "cell_type": "markdown",
   "metadata": {},
   "source": [
    "# Building A Mesh and Loading $\\vec{B}$\n",
    "I used one of Daniel's data (output of MFM simulation)"
   ]
  },
  {
   "cell_type": "code",
   "execution_count": 5,
   "metadata": {},
   "outputs": [
    {
     "name": "stdout",
     "output_type": "stream",
     "text": [
      "---<( Input files include Ghost-Cells, those cells will be ignored )>---\n",
      "Following parameters are found in the given file :: \n",
      " Bx (defined on FaceX)\n",
      " By (defined on FaceY)\n",
      " Bz (defined on FaceZ)\n"
     ]
    }
   ],
   "source": [
    "BaseAddress = \"/home/farhadda/BackUp/\"\n",
    "\n",
    "file = BaseAddress+'div_E_omega_2017-09-06T11-24-00.npz'\n",
    "data = np.load(file, allow_pickle=True, encoding=\"bytes\")\n",
    "ds1 = DS(SystemOfCoords=\"CAR\", BaseAddress=BaseAddress,\n",
    "         Pattern=\"div_E_omega_2017-09-06T11-24-00.npz\",\n",
    "         NBlocks=1, UseBlock=0)\n",
    "Beg = ds1.geo['num_ghost_cells'][0]\n",
    "for v in ds1.geo[\"vars\"].keys():\n",
    "    ds1.Scalar(v, ds1.geo[\"vars\"][v][\"Location\"], ds1.Adummy)\n",
    "    if Beg > 0:\n",
    "        ds1.vars[v][\"val\"] = data[v][Beg:-Beg, Beg:-Beg, Beg:-Beg]\n",
    "    else:\n",
    "        ds1.vars[v][\"val\"] = data[v]"
   ]
  },
  {
   "cell_type": "code",
   "execution_count": 21,
   "metadata": {},
   "outputs": [
    {
     "name": "stdout",
     "output_type": "stream",
     "text": [
      "4.460892352578051e-05\t0.2916412353515625\t0.0\n",
      "[108] [98] [0]\n"
     ]
    }
   ],
   "source": [
    "ds1.DivFace(\"Bx\", \"By\", \"Bz\", \"DivB\")\n",
    "a = np.abs(ds1.vars[\"DivB\"]['val'])\n",
    "print(a.mean(), a.max(), a.min(), sep='\\t')\n",
    "print(*np.where(a == a.max()))"
   ]
  },
  {
   "cell_type": "code",
   "execution_count": 22,
   "metadata": {},
   "outputs": [
    {
     "name": "stdout",
     "output_type": "stream",
     "text": [
      "0.027928878593882763\t23.97270577434893\t0.0\n",
      "[74] [91] [0]\n"
     ]
    }
   ],
   "source": [
    "ds1.AvgFaceToCell(\"Bx\", \"By\", \"Bz\", \"CBx\", \"CBy\", \"CBz\")\n",
    "b = np.abs(ds1.vars[\"DivB\"]['val'] /\n",
    "           np.sqrt(ds1.vars[\"CBx\"]['val']**2 + ds1.vars[\"CBy\"]['val']**2 +\n",
    "                   ds1.vars[\"CBz\"]['val']**2))\n",
    "print(b.mean(), b.max(), b.min(), sep='\\t')\n",
    "print(*np.where(b == b.max()))"
   ]
  }
 ],
 "metadata": {
  "kernelspec": {
   "display_name": "Python 3",
   "language": "python",
   "name": "python3"
  },
  "language_info": {
   "codemirror_mode": {
    "name": "ipython",
    "version": 3
   },
   "file_extension": ".py",
   "mimetype": "text/x-python",
   "name": "python",
   "nbconvert_exporter": "python",
   "pygments_lexer": "ipython3",
   "version": "3.7.7"
  },
  "widgets": {
   "application/vnd.jupyter.widget-state+json": {
    "state": {},
    "version_major": 2,
    "version_minor": 0
   }
  }
 },
 "nbformat": 4,
 "nbformat_minor": 4
}
