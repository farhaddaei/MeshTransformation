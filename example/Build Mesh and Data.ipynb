{
 "cells": [
  {
   "cell_type": "markdown",
   "metadata": {},
   "source": [
    "# Creating a Mesh Structure and Data\n",
    "\n",
    "\n",
    "* import the package\n",
    "* build a new instance of the class which requaires :\n",
    "  1. Number of cells in each direction as a tuple with 3 integers\n",
    "  2. Starting point of mesh in each direction as a tuple with 3 floating-point values\n",
    "  3. Ending of mesh in each direction as a tuple with 3 floating-point values\n",
    "  4. Detrimining the system of coordinate as an string, with two possible values  (__\"SPH\"__ , or __\"CAR\"__)\n",
    "\n",
    "\n"
   ]
  },
  {
   "cell_type": "code",
   "execution_count": null,
   "metadata": {},
   "outputs": [],
   "source": [
    "import numpy as np\n",
    "from DataSet import DataSet as DS\n",
    "\n",
    "nx, ny, nz = 35, 40, 30  # Number of Cells in x-, y-, and z-direction\n",
    "x0, y0, z0 = 0.0, 0.0, 0.0  # starting values of mesh in x-, y-, and z-direction\n",
    "x1, y1, z1 = 1.0, 2.0, 5.0  # ending values of mesh in x-, y-, and z-direction\n",
    "\n",
    "ds1 = DS(SystemOfCoords=\"CAR\", NCell=(nx, ny, nz), startval=(x0, y0, z0), endval=(x1, y1, z1))"
   ]
  },
  {
   "cell_type": "markdown",
   "metadata": {},
   "source": [
    "Now the coordinates of all locations in mesh (Cells, Nodes, Faces, and Edges) are calculated and stored in __ds1__ object.\n",
    "In order to create a parameter on these locations, one first needs to define a function to evaluate the parameter on coorspoinding location (in this case 3 components of magnetic field)"
   ]
  },
  {
   "cell_type": "code",
   "execution_count": null,
   "metadata": {},
   "outputs": [],
   "source": [
    "K1 = 2.0\n",
    "B0 = 100.0\n",
    "def BFieldX(Coords):\n",
    "    return np.exp(- K1 * Coords[\"Z\"]) * np.cos(K1 * Coords[\"X\"])\n",
    "\n",
    "\n",
    "def BFieldY(Coords):\n",
    "    return 0.0 * Coords[\"Y\"]\n",
    "\n",
    "\n",
    "def BFieldZ(Coords):\n",
    "    return - np.exp(- K1 * Coords[\"Z\"]) * np.sin(K1 * Coords[\"X\"])"
   ]
  },
  {
   "cell_type": "markdown",
   "metadata": {},
   "source": [
    "Then by passing the paramter's name, location on mesh and cooresponding function to \"Scalar\" method, the parameter is evaluted:"
   ]
  },
  {
   "cell_type": "code",
   "execution_count": null,
   "metadata": {},
   "outputs": [],
   "source": [
    "ds1.Scalar(\"Bx\", \"FaceX\", BFieldX)\n",
    "ds1.Scalar(\"By\", \"FaceY\", BFieldY)\n",
    "ds1.Scalar(\"Bz\", \"FaceZ\", BFieldZ)"
   ]
  },
  {
   "cell_type": "markdown",
   "metadata": {},
   "source": [
    "To extract magnetic vector potential first a dummy function must be defined to allocate the arrays for\n",
    "\"A\", then using $A_{z} = 0$ gauge:"
   ]
  },
  {
   "cell_type": "markdown",
   "metadata": {},
   "source": [
    "Now, $\\vec{A}$ can be evaluted using  𝐴𝑧=0  gauge:"
   ]
  },
  {
   "cell_type": "code",
   "execution_count": null,
   "metadata": {},
   "outputs": [],
   "source": [
    "ds1.ExtractAFromBFace(\"Bx\", \"By\", \"Bz\", \"Ax\", \"Ay\", \"Az\")"
   ]
  },
  {
   "cell_type": "markdown",
   "metadata": {},
   "source": [
    "Now, to check if exctraction of $\\vec{A}$ is done correctly and $\\vec{B}$ is divergance-free, one can calculate $\\vec{B}$ from $\\vec{A}$, calculate $\\nabla . \\vec{B}$, store the results in a file, then plot the results: "
   ]
  },
  {
   "cell_type": "code",
   "execution_count": null,
   "metadata": {},
   "outputs": [],
   "source": [
    "ds1.CurlEdgeToFace(\"Ax\", \"Ay\", \"Az\", \"BFx\", \"BFy\", \"BFz\")\n",
    "ds1.DivFace(\"BFx\", \"BFy\", \"BFz\", \"DivBf\")  # using A on Edges and B on Cells"
   ]
  },
  {
   "cell_type": "markdown",
   "metadata": {},
   "source": [
    "### Calculation of $\\vec{J}$ on cell edges using $\\vec{B}$ located on cell faces:  "
   ]
  },
  {
   "cell_type": "code",
   "execution_count": null,
   "metadata": {},
   "outputs": [],
   "source": [
    "ds1.CurlFaceToEdge(\"Bx\", \"By\", \"Bz\", \"Jx\", \"Jy\", \"Jz\")"
   ]
  },
  {
   "cell_type": "markdown",
   "metadata": {},
   "source": [
    "### Calcualtion of Lorantz-Force using the average of $\\vec{J}$ and $\\vec{B}$ on cell-center :"
   ]
  },
  {
   "cell_type": "code",
   "execution_count": null,
   "metadata": {},
   "outputs": [],
   "source": [
    "ds1.AvgFaceToCell(\"Bx\", \"By\", \"Bz\", \"BXc\", \"BYc\", \"BZc\")\n",
    "ds1.AvgEdgeToCell(\"Jx\", \"Jy\", \"Jz\", \"JXc\", \"JYc\", \"JZc\")\n",
    "ds1.Cross(\"JXc\", \"JYc\", \"JZc\", \"BXc\", \"BYc\", \"BZc\", \"LFx\", \"LFy\", \"LFz\")"
   ]
  },
  {
   "cell_type": "markdown",
   "metadata": {},
   "source": [
    "Now we try to transfer $\\vec{A}$ to a new mesh and the calculate $\\vec{B}$ on the new mesh: "
   ]
  },
  {
   "cell_type": "code",
   "execution_count": null,
   "metadata": {},
   "outputs": [],
   "source": [
    "nxyz = (30, 35, 29)  # Number of Cells in x-, y-, and z-direction\n",
    "xyz0 = (0.0, 0.0, 0.0)  # starting values of mesh in x-, y-, and z-direction\n",
    "xyz1 = (1.0, 2.0, 5.0)  # ending values of mesh in x-, y-, and z-direction\n",
    "# ds2 = DS(SystemOfCoords=\"CAR\", NCell=nxyz, startval=xyz0, endval=xyz1)\n",
    "ds2 = DS(SystemOfCoords=\"CAR\", NCell=(nx,ny,nz), startval=(x0,y0,z0), endval=(x1, y1,z1))"
   ]
  },
  {
   "cell_type": "code",
   "execution_count": null,
   "metadata": {
    "scrolled": true
   },
   "outputs": [],
   "source": [
    "ds1.ToNewMesh(ds2, \"Ax\", \"EdgeX\")\n",
    "ds1.ToNewMesh(ds2, \"Ay\", \"EdgeY\")\n",
    "ds2.Scalar(\"Az\", \"EdgeZ\", ds2.Adummy)"
   ]
  },
  {
   "cell_type": "code",
   "execution_count": null,
   "metadata": {},
   "outputs": [],
   "source": [
    "ds2.CurlEdgeToFace(\"Ax\", \"Ay\", \"Az\", \"Bx\", \"By\", \"Bz\")\n",
    "ds2.CurlFaceToEdge(\"Bx\", \"By\", \"Bz\", \"Jx\", \"Jy\", \"Jz\")\n",
    "ds2.AvgFaceToCell(\"Bx\", \"By\", \"Bz\", \"BXc\", \"BYc\", \"BZc\")\n",
    "ds2.AvgEdgeToCell(\"Jx\", \"Jy\", \"Jz\", \"JXc\", \"JYc\", \"JZc\")\n",
    "ds2.Cross(\"JXc\", \"JYc\", \"JZc\", \"BXc\", \"BYc\", \"BZc\", \"LFx\", \"LFy\", \"LFz\")\n",
    "# just to remove unnecessary data (averge B and J on cell center) before saveing them in the file \n",
    "for varname in [\"JXc\", \"JYc\", \"JZc\", \"BXc\", \"BYc\", \"BZc\"]:\n",
    "    del ds1.vars[varname]\n",
    "    del ds2.vars[varname]\n",
    "ds1.Write2HDF5(\"InitialStructure.h5\")\n",
    "ds2.Write2HDF5(\"Extrapolated.h5\")"
   ]
  },
  {
   "cell_type": "code",
   "execution_count": null,
   "metadata": {},
   "outputs": [],
   "source": [
    "pwd"
   ]
  },
  {
   "cell_type": "markdown",
   "metadata": {},
   "source": [
    "# Compare parameters on the original and interpolated meshes assuming exactly same meshing"
   ]
  },
  {
   "cell_type": "code",
   "execution_count": null,
   "metadata": {
    "code_folding": []
   },
   "outputs": [],
   "source": [
    "for var in [\"Ax\", \"Ay\", \"Az\", \"Bx\", \"By\", \"Bz\", \"Jx\", \"Jy\", \"Jz\"]:\n",
    "    print(var, np.max(np.abs(ds1.vars[var][\"val\"] - ds2.vars[var][\"val\"])))"
   ]
  },
  {
   "cell_type": "markdown",
   "metadata": {},
   "source": [
    "## So maybe the difference is caused by extraction $\\vec{A}$ from $\\vec{B}$ in the original mesh, Lets check it out"
   ]
  },
  {
   "cell_type": "code",
   "execution_count": null,
   "metadata": {},
   "outputs": [],
   "source": [
    "for com in [\"x\", \"y\", \"z\"]:\n",
    "    print(np.max(ds1.vars[\"BF\"+com][\"val\"] - ds1.vars[\"B\"+com][\"val\"]))"
   ]
  },
  {
   "cell_type": "markdown",
   "metadata": {},
   "source": [
    "# Check equations for extraction of $\\vec{A}$\n",
    "As it is obvious $B_{z}$ has considerable difference with the original and $\\vec{B} = \\nabla \\times \\vec{A}$ <br>\n",
    "I expect that by changing the mesh resolution the error of magnetic field component vary with $h^{2}$, in which \n",
    "__h__ is the length of cell in each integration / differentiation direction, so now I try reconstructing $\\vec{B}$ for different mesh resolution and compare each component at the last cell of interpolation with the original magnetic field"
   ]
  },
  {
   "cell_type": "code",
   "execution_count": 20,
   "metadata": {},
   "outputs": [
    {
     "name": "stdout",
     "output_type": "stream",
     "text": [
      "Prepared :: 59 with h= 6.7567567567567571e-02"
     ]
    }
   ],
   "source": [
    "from __future__ import print_function\n",
    "import numpy as np\n",
    "from DataSet import DataSet as DS\n",
    "from scipy.optimize import curve_fit\n",
    "# %matplotlib widget\n",
    "import matplotlib.pyplot as plt\n",
    "\n",
    "\n",
    "K1 = 2.0\n",
    "B0 = 100.0\n",
    "def BFieldX(Coords):\n",
    "    return np.exp(- K1 * Coords[\"Z\"]) * np.cos(K1 * Coords[\"X\"])\n",
    "\n",
    "\n",
    "def BFieldY(Coords):\n",
    "    return 0.0 * Coords[\"Y\"]\n",
    "\n",
    "\n",
    "def BFieldZ(Coords):\n",
    "    return - np.exp(- K1 * Coords[\"Z\"]) * np.sin(K1 * Coords[\"X\"])\n",
    "\n",
    "x0, y0, z0 = 0.0, 0.0, 0.0  # starting values of mesh in x-, y-, and z-direction\n",
    "x1, y1, z1 = 1.0, 2.0, 5.0  # ending values of mesh in x-, y-, and z-direction\n",
    "nx, ny, nz = 35, 40, 15  # Number of Cells in x-direction, y-direction, and z-direction\n",
    "\n",
    "NPoint = 60\n",
    "results = np.empty((NPoint, 2))\n",
    "\n",
    "for j in range(NPoint):\n",
    "    results[j, 0] = (nz + j)\n",
    "    InterTest = DS(SystemOfCoords=\"CAR\", NCell=(nx, ny, (nz + j)), startval=(x0, y0, z0), endval=(x1, y1, z1))\n",
    "    InterTest.Scalar(\"Bx\", \"FaceX\", BFieldX)\n",
    "    InterTest.Scalar(\"By\", \"FaceY\", BFieldY)\n",
    "    InterTest.Scalar(\"Bz\", \"FaceZ\", BFieldZ)\n",
    "    InterTest.ExtractAFromBFace(\"Bx\", \"By\", \"Bz\", \"Ax\", \"Ay\", \"Az\")\n",
    "    InterTest.CurlEdgeToFace(\"Ax\", \"Ay\", \"Az\", \"BxE\", \"ByE\", \"BzE\")\n",
    "    results[j, 1] = np.abs(InterTest.vars[\"Bz\"][\"val\"][-1,-1,0] - InterTest.vars[\"BzE\"][\"val\"][1,1,0])\n",
    "    print(\"\\rPrepared :: {0:02} with h = {1:23.16e}\".format(j, (z1 - z0) / (nz + j)), end='', flush=True)\n",
    "np.savetxt(\"Test.dat\", results)"
   ]
  },
  {
   "cell_type": "code",
   "execution_count": 21,
   "metadata": {},
   "outputs": [
    {
     "data": {
      "text/plain": [
       "[<matplotlib.lines.Line2D at 0x7f380dc1d070>]"
      ]
     },
     "execution_count": 21,
     "metadata": {},
     "output_type": "execute_result"
    },
    {
     "data": {
      "image/png": "[encoded data removed]",
      "text/plain": [
       "<Figure size 432x288 with 1 Axes>"
      ]
     },
     "metadata": {
      "needs_background": "light"
     },
     "output_type": "display_data"
    }
   ],
   "source": [
    "def ErrFunc(n, p0, p1):\n",
    "    \"\"\" Error Estimation of mid-point integration method in\n",
    "    which __x__ is the number of intervals, in this case, number of cells in Z-Direction\n",
    "    the actual equation is ::\n",
    "    \n",
    "    $ Error <= \\frac{M (b - a)^{3}}{24 n^{2}} $\n",
    "    \n",
    "    M : is the maximum value fo second derivative of function in integral in the integration interval\n",
    "    \n",
    "    a and b : are the limits of integral\n",
    "    \n",
    "    n : is the number of intervals used for numerical integration used in mid-point method\n",
    "    \"\"\"\n",
    "    return p0 / (n*n) + p1 \n",
    "\n",
    "popt, pcov = curve_fit(ErrFunc, results[:, 0], results[:, 1])\n",
    "plt.figure()\n",
    "plt.plot(results[:,0], results[:,1])\n",
    "plt.plot(results[:,0], ErrFunc(results[:,0], *popt), linestyle=\"none\", marker=\"*\" )"
   ]
  },
  {
   "cell_type": "code",
   "execution_count": null,
   "metadata": {},
   "outputs": [],
   "source": []
  }
 ],
 "metadata": {
  "kernelspec": {
   "display_name": "Python 3",
   "language": "python",
   "name": "python3"
  },
  "language_info": {
   "codemirror_mode": {
    "name": "ipython",
    "version": 3
   },
   "file_extension": ".py",
   "mimetype": "text/x-python",
   "name": "python",
   "nbconvert_exporter": "python",
   "pygments_lexer": "ipython3",
   "version": "3.8.2"
  },
  "latex_envs": {
   "LaTeX_envs_menu_present": true,
   "autoclose": false,
   "autocomplete": true,
   "bibliofile": "biblio.bib",
   "cite_by": "apalike",
   "current_citInitial": 1,
   "eqLabelWithNumbers": true,
   "eqNumInitial": 1,
   "hotkeys": {
    "equation": "Ctrl-E",
    "itemize": "Ctrl-I"
   },
   "labels_anchors": false,
   "latex_user_defs": false,
   "report_style_numbering": false,
   "user_envs_cfg": false
  },
  "pycharm": {
   "stem_cell": {
    "cell_type": "raw",
    "metadata": {
     "collapsed": false
    },
    "source": [
     "\n",
     "\n",
     "\n"
    ]
   }
  }
 },
 "nbformat": 4,
 "nbformat_minor": 4
}
