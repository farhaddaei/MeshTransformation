{
 "cells": [
  {
   "cell_type": "markdown",
   "metadata": {},
   "source": [
    "## Importing Libraries "
   ]
  },
  {
   "cell_type": "code",
   "execution_count": 1,
   "metadata": {},
   "outputs": [],
   "source": [
    "import numpy as np\n",
    "import matplotlib.pyplot as plt\n",
    "from DataSet import DataSet as DS\n",
    "%matplotlib qt"
   ]
  },
  {
   "cell_type": "markdown",
   "metadata": {},
   "source": [
    "## Analytical Functions for $\\vec{A}$ and $\\vec{B}$ components\n",
    "$\\vec{A}(x,y,z) = \\{x y z, x y^{2} z, x y^{3} z^{2}\\}$\n",
    "\n",
    "$\\vec{B}(x,y,z) = \\nabla \\times \\vec{A}(x,y,z) = \\{3 x y^{2} z^{2}-x y^{2},x y-y^{3} z^{2},y^{2} z-x z\\}$\n",
    "\n",
    "These function will be used to estimate $\\vec{A}$ and $\\vec{B}$ over __Edges__ and __Cell-Faces__, respectively"
   ]
  },
  {
   "cell_type": "code",
   "execution_count": 2,
   "metadata": {},
   "outputs": [],
   "source": [
    "def Ax(Coords: dict) -> np.ndarray:\n",
    "    return Coords[\"X\"]*Coords[\"Y\"]*Coords[\"Z\"]\n",
    "\n",
    "\n",
    "def Ay(Coords: dict) -> np.ndarray:\n",
    "    return Coords[\"X\"]*Coords[\"Y\"]*Coords[\"Y\"]*Coords[\"Z\"]\n",
    "\n",
    "\n",
    "def Az(Coords: dict) -> np.ndarray:\n",
    "    return Coords[\"X\"] * Coords[\"Y\"] * Coords[\"Y\"] * Coords[\"Y\"] * \\\n",
    "        Coords[\"Z\"] * Coords[\"Z\"]\n",
    "\n",
    "\n",
    "def Bx(Coords: dict) -> np.ndarray:\n",
    "    return -Coords[\"X\"] * Coords[\"Y\"] * Coords[\"Y\"] + \\\n",
    "        3 * Coords[\"X\"] * Coords[\"Y\"] * Coords[\"Y\"] * \\\n",
    "        Coords[\"Z\"] * Coords[\"Z\"]\n",
    "\n",
    "\n",
    "def By(Coords: dict) -> np.ndarray:\n",
    "    return Coords[\"X\"] * Coords[\"Y\"] - \\\n",
    "        Coords[\"Y\"]**3 * Coords[\"Z\"]**2\n",
    "\n",
    "\n",
    "def Bz(Coords: dict) -> np.ndarray:\n",
    "    return -Coords[\"X\"] * Coords[\"Z\"] + \\\n",
    "        Coords[\"Y\"]**2 * Coords[\"Z\"]"
   ]
  },
  {
   "cell_type": "markdown",
   "metadata": {},
   "source": [
    "## Creating a Mesh Structure"
   ]
  },
  {
   "cell_type": "code",
   "execution_count": 3,
   "metadata": {},
   "outputs": [],
   "source": [
    "nx, ny, nz = 40, 40, 40  # Number of Cells in x-, y-, and z-direction\n",
    "x0, y0, z0 = -1.0, -1.0, -1.0  # starting values of mesh in x-, y-, and z-direction\n",
    "x1, y1, z1 = 1.0, 1.0, 1.0  # ending values of mesh in x-, y-, and z-direction\n",
    "\n",
    "ds1 = DS(SystemOfCoords=\"CAR\", NCell=(nx, ny, nz),\n",
    "         startval=(x0, y0, z0), endval=(x1, y1, z1))"
   ]
  },
  {
   "cell_type": "markdown",
   "metadata": {},
   "source": [
    "## Evaluating $\\vec{A}$ and $\\vec{B}$ using predefined functions (on Edges and Cell-Faces)"
   ]
  },
  {
   "cell_type": "code",
   "execution_count": 4,
   "metadata": {},
   "outputs": [],
   "source": [
    "ds1.Scalar(\"Ax\", \"EdgeX\", Ax)\n",
    "ds1.Scalar(\"Ay\", \"EdgeY\", Ay)\n",
    "ds1.Scalar(\"Az\", \"EdgeZ\", Az)\n",
    "\n",
    "ds1.Scalar(\"BEx\", \"FaceX\", Bx)\n",
    "ds1.Scalar(\"BEy\", \"FaceY\", By)\n",
    "ds1.Scalar(\"BEz\", \"FaceZ\", Bz)"
   ]
  },
  {
   "cell_type": "markdown",
   "metadata": {},
   "source": [
    "## Building numerical results for $\\vec{B}$ to compare with exact vaulues to check if \"CurlEdgeToFace\" method works as expected"
   ]
  },
  {
   "cell_type": "code",
   "execution_count": 5,
   "metadata": {},
   "outputs": [],
   "source": [
    "ds1.CurlEdgeToFace(\"Ax\", \"Ay\", \"Az\", \"Bx\", \"By\", \"Bz\")"
   ]
  },
  {
   "cell_type": "code",
   "execution_count": 9,
   "metadata": {
    "pycharm": {
     "name": "#%%\n"
    }
   },
   "outputs": [
    {
     "name": "stderr",
     "output_type": "stream",
     "text": [
      "/home/farhadda/bin/anaconda3/envs/MagneticField/lib/python3.7/site-packages/ipykernel_launcher.py:10: RuntimeWarning: invalid value encountered in true_divide\n",
      "  # Remove the CWD from sys.path while we load stuff.\n"
     ]
    }
   ],
   "source": [
    "plt.ion()\n",
    "ErrorZ = ds1.vars[\"Bz\"]['val'] - ds1.vars[\"BEz\"]['val']\n",
    "\n",
    "# Loop to check the entire computational box\n",
    "# ---<( Smaller values are better )>---\n",
    "plt.ion()\n",
    "for k in range(nz):\n",
    "    plt.figure()\n",
    "    plt.imshow((ErrorZ[:, :, k] / ds1.vars[\"BEz\"]\n",
    "                ['val'][:, :, k]).T, origin='lower left')\n",
    "    plt.colorbar()\n",
    "    plt.title(\"k={0:02}\".format(k))\n",
    "    plt.pause(1)\n",
    "    # input(\"Press Enter...\")\n",
    "    plt.close()"
   ]
  },
  {
   "cell_type": "code",
   "execution_count": 12,
   "metadata": {},
   "outputs": [
    {
     "data": {
      "text/plain": [
       "<mpl_toolkits.mplot3d.art3d.Line3DCollection at 0x7fbb6b1d6b50>"
      ]
     },
     "execution_count": 12,
     "metadata": {},
     "output_type": "execute_result"
    }
   ],
   "source": [
    "from mpl_toolkits.mplot3d import axes3d\n",
    "fig = plt.figure()\n",
    "ax = fig.gca(projection='3d')\n",
    "ax.quiver(ds1.Cells['X'], ds1.Cells['Y'], ds1.Cells['Z'], Bx(\n",
    "    ds1.Cells), By(ds1.Cells), Bz(ds1.Cells), length=0.02)"
   ]
  },
  {
   "cell_type": "markdown",
   "metadata": {
    "pycharm": {
     "name": "#%% md\n"
    }
   },
   "source": [
    "## Now extract Vector potential and reproduce $\\vec{B}$ to check if extraction method works as expected by compari with exact vaulues"
   ]
  },
  {
   "cell_type": "code",
   "execution_count": 6,
   "metadata": {},
   "outputs": [],
   "source": [
    "ds1.ExtractAFromBFace(\"BEx\", \"BEy\", \"BEz\", \"AEx\", \"AEy\", \"AEz\")\n",
    "ds1.CurlEdgeToFace(\"AEx\", \"AEy\", \"AEz\", \"BBBx\", \"BBBy\", \"BBBz\")"
   ]
  },
  {
   "cell_type": "code",
   "execution_count": null,
   "metadata": {},
   "outputs": [],
   "source": [
    "ErrorX = ds1.vars[\"BBBx\"]['val'] - ds1.vars[\"BEx\"]['val']\n",
    "for k in range(nx):\n",
    "    plt.figure()\n",
    "    plt.imshow((ErrorX[:, :, k] / ds1.vars[\"BEx\"]\n",
    "                ['val'][:, :, k]).T, origin='lower left')\n",
    "    plt.colorbar()\n",
    "    plt.title(r\"$B_{x}$ \"+\" k={0:02}\".format(k))\n",
    "    plt.pause(1)\n",
    "    plt.close()"
   ]
  },
  {
   "cell_type": "code",
   "execution_count": null,
   "metadata": {},
   "outputs": [],
   "source": [
    "ErrorY = ds1.vars[\"BBBy\"]['val'] - ds1.vars[\"BEy\"]['val']\n",
    "for k in range(ny):\n",
    "    plt.figure()\n",
    "    plt.imshow((ErrorY[:, :, k] / ds1.vars[\"BEy\"]\n",
    "                ['val'][:, :, k]).T, origin='lower left')\n",
    "    plt.colorbar()\n",
    "    plt.title(r\"$B_{y}$ \"+\" k={0:02}\".format(k))\n",
    "    plt.pause(1)\n",
    "    plt.close()"
   ]
  },
  {
   "cell_type": "code",
   "execution_count": null,
   "outputs": [],
   "source": [
    "ErrorZ = ds1.vars[\"BBBz\"]['val'] - ds1.vars[\"BEz\"]['val']\n",
    "for k in range(nz):\n",
    "    plt.figure()\n",
    "    plt.imshow((ErrorZ[:, :, k] / ds1.vars[\"BEz\"]\n",
    "                ['val'][:, :, k]).T, origin='lower left')\n",
    "    plt.colorbar()\n",
    "    plt.title(r\"$B_{z}$ \"+\" k={0:02}\".format(k))\n",
    "    plt.pause(1)\n",
    "    plt.close()"
   ],
   "metadata": {
    "collapsed": false,
    "pycharm": {
     "name": "#%%\n"
    }
   }
  },
  {
   "cell_type": "code",
   "execution_count": null,
   "outputs": [],
   "source": [
    "ds1.DivFace(\"BEx\", \"BEy\", \"BEz\", \"DivBE\")\n",
    "ds1.DivFace(\"Bx\", \"By\", \"Bz\", \"DivB\")"
   ],
   "metadata": {
    "collapsed": false,
    "pycharm": {
     "name": "#%%\n"
    }
   }
  },
  {
   "cell_type": "markdown",
   "source": [
    "# Just exprimenting"
   ],
   "metadata": {
    "collapsed": false
   }
  },
  {
   "cell_type": "markdown",
   "source": [
    "## Check if \"exact magnetic field\" is Div-Free, "
   ],
   "metadata": {
    "collapsed": false
   }
  },
  {
   "cell_type": "code",
   "execution_count": null,
   "outputs": [],
   "source": [
    "ds1.DivFace(\"BEx\", \"BEy\", \"BEz\", \"DivEB\")\n",
    "a = np.abs(ds1.vars[\"DivEB\"]['val'])\n",
    "print(\"Exact B ::\\n\", a.mean(), a.max(), a.min(), sep='\\t')"
   ],
   "metadata": {
    "collapsed": false,
    "pycharm": {
     "name": "#%%\n"
    }
   }
  },
  {
   "cell_type": "markdown",
   "source": [
    "No, it is NOT!!! WOW!!!\n",
    "Now, check if magnetic field produced by curl of $\\vec{A}$ which is extracted from \"exact magnetic field\" is Div-Free\n",
    "\n",
    "\n",
    "## B --> A --> B"
   ],
   "metadata": {
    "collapsed": false
   }
  },
  {
   "cell_type": "code",
   "execution_count": null,
   "outputs": [],
   "source": [
    "ds1.ExtractAFromBFace(\"BEx\", \"BEy\", \"BEz\", \"AEx\", \"AEy\", \"AEz\")\n",
    "ds1.CurlEdgeToFace(\"AEx\", \"AEy\", \"AEz\", \"BBBx\", \"BBBy\", \"BBBz\")\n",
    "ds1.DivFace(\"BBBx\", \"BBBy\", \"BBBz\", \"DivBBB\")\n",
    "b = np.abs(ds1.vars[\"DivBBB\"]['val'])\n",
    "print(\"Exact A ::\\n\", b.mean(), b.max(), b.min(), sep='\\t')"
   ],
   "metadata": {
    "collapsed": false,
    "pycharm": {
     "name": "#%%\n"
    }
   }
  },
  {
   "cell_type": "markdown",
   "source": [
    "## Instead of evaluating "
   ],
   "metadata": {
    "collapsed": false
   }
  },
  {
   "cell_type": "code",
   "execution_count": null,
   "outputs": [],
   "source": [
    "ds1.CurlEdgeToFace(\"Ax\", \"Ay\", \"Az\", \"Bx\", \"By\", \"Bz\")"
   ],
   "metadata": {
    "collapsed": false,
    "pycharm": {
     "name": "#%%\n"
    }
   }
  },
  {
   "cell_type": "code",
   "execution_count": null,
   "outputs": [],
   "source": [
    "ds1.DivFace(\"BEx\", \"BEy\", \"BEz\", \"DivEB\")\n",
    "ds1.CurlEdgeToFace(\"Ax\", \"Ay\", \"Az\", \"Bx\", \"By\", \"Bz\")"
   ],
   "metadata": {
    "collapsed": false,
    "pycharm": {
     "name": "#%%\n"
    }
   }
  },
  {
   "cell_type": "code",
   "execution_count": null,
   "outputs": [],
   "source": [
    "plt.imshow(ds1.vars[\"DivEB\"]['val'][:, :, 10].T, origin=\"lower left\")"
   ],
   "metadata": {
    "collapsed": false,
    "pycharm": {
     "name": "#%%\n"
    }
   }
  },
  {
   "cell_type": "code",
   "execution_count": null,
   "outputs": [],
   "source": [
    "plt.colorbar()"
   ],
   "metadata": {
    "collapsed": false,
    "pycharm": {
     "name": "#%%\n"
    }
   }
  },
  {
   "cell_type": "code",
   "execution_count": null,
   "outputs": [],
   "source": [
    "plt.imshow(ds1.vars[\"DivEB\"]['val'][:, :, 10].T, origin=\"lower left\")"
   ],
   "metadata": {
    "collapsed": false,
    "pycharm": {
     "name": "#%%\n"
    }
   }
  },
  {
   "cell_type": "code",
   "execution_count": null,
   "outputs": [],
   "source": [
    "plt.colorbar()"
   ],
   "metadata": {
    "collapsed": false,
    "pycharm": {
     "name": "#%%\n"
    }
   }
  },
  {
   "cell_type": "code",
   "execution_count": null,
   "metadata": {},
   "outputs": [],
   "source": [
    "plt.colorbar()"
   ]
  },
  {
   "cell_type": "code",
   "execution_count": 11,
   "metadata": {},
   "outputs": [],
   "source": [
    "ds1.DivFace(\"BEx\", \"BEy\", \"BEz\", \"DivBE\")\n",
    "ds1.DivFace(\"Bx\", \"By\", \"Bz\", \"DivB\")"
   ]
  },
  {
   "cell_type": "markdown",
   "metadata": {},
   "source": [
    "# Just exprimenting"
   ]
  },
  {
   "cell_type": "markdown",
   "metadata": {},
   "source": [
    "## Check if \"exact magnetic field\" is Div-Free, "
   ]
  },
  {
   "cell_type": "code",
   "execution_count": 9,
   "metadata": {},
   "outputs": [
    {
     "name": "stdout",
     "output_type": "stream",
     "text": [
      "Exact B ::\n",
      "\t2.602539062499982e-08\t7.426757812727114e-08\t4.8828124052727184e-11\n"
     ]
    }
   ],
   "source": [
    "ds1.DivFace(\"BEx\", \"BEy\", \"BEz\", \"DivEB\")\n",
    "a = np.abs(ds1.vars[\"DivEB\"]['val'])\n",
    "print(\"Exact B ::\\n\", a.mean(), a.max(), a.min(), sep='\\t')"
   ]
  },
  {
   "cell_type": "markdown",
   "metadata": {},
   "source": [
    "No, it is NOT!!! WOW!!!\n",
    "Now, check if magnetic field produced by curl of $\\vec{A}$ which is extracted from \"exact magnetic field\" is Div-Free\n",
    "\n",
    "\n",
    "## B --> A --> B"
   ]
  },
  {
   "cell_type": "code",
   "execution_count": 16,
   "metadata": {},
   "outputs": [
    {
     "name": "stdout",
     "output_type": "stream",
     "text": [
      "Exact A ::\n",
      "\t2.022535758876774e-19\t5.204170427930421e-18\t0.0\n"
     ]
    }
   ],
   "source": [
    "ds1.ExtractAFromBFace(\"BEx\", \"BEy\", \"BEz\", \"AEx\", \"AEy\", \"AEz\")\n",
    "ds1.CurlEdgeToFace(\"AEx\", \"AEy\", \"AEz\", \"BBBx\", \"BBBy\", \"BBBz\")\n",
    "ds1.DivFace(\"BBBx\", \"BBBy\", \"BBBz\", \"DivBBB\")\n",
    "b = np.abs(ds1.vars[\"DivBBB\"]['val'])\n",
    "print(\"Exact A ::\\n\", b.mean(), b.max(), b.min(), sep='\\t')"
   ]
  },
  {
   "cell_type": "markdown",
   "metadata": {},
   "source": [
    "## Instead of evaluating "
   ]
  },
  {
   "cell_type": "code",
   "execution_count": null,
   "metadata": {},
   "outputs": [],
   "source": [
    "ds1.CurlEdgeToFace(\"Ax\", \"Ay\", \"Az\", \"Bx\", \"By\", \"Bz\")"
   ]
  },
  {
   "cell_type": "code",
   "execution_count": 5,
   "metadata": {},
   "outputs": [],
   "source": [
    "ds1.DivFace(\"BEx\", \"BEy\", \"BEz\", \"DivEB\")\n",
    "ds1.CurlEdgeToFace(\"Ax\", \"Ay\", \"Az\", \"Bx\", \"By\", \"Bz\")"
   ]
  },
  {
   "cell_type": "code",
   "execution_count": 6,
   "metadata": {},
   "outputs": [
    {
     "data": {
      "text/plain": [
       "<matplotlib.image.AxesImage at 0x7f5727bd8d90>"
      ]
     },
     "execution_count": 6,
     "metadata": {},
     "output_type": "execute_result"
    }
   ],
   "source": [
    "plt.imshow(ds1.vars[\"DivEB\"]['val'][:, :, 10].T, origin=\"lower left\")"
   ]
  },
  {
   "cell_type": "code",
   "execution_count": 7,
   "metadata": {},
   "outputs": [
    {
     "data": {
      "text/plain": [
       "<matplotlib.colorbar.Colorbar at 0x7f572304a890>"
      ]
     },
     "execution_count": 7,
     "metadata": {},
     "output_type": "execute_result"
    }
   ],
   "source": [
    "plt.colorbar()"
   ]
  },
  {
   "cell_type": "code",
   "execution_count": 6,
   "metadata": {},
   "outputs": [
    {
     "data": {
      "text/plain": [
       "<matplotlib.image.AxesImage at 0x7f5727bd8d90>"
      ]
     },
     "execution_count": 6,
     "metadata": {},
     "output_type": "execute_result"
    }
   ],
   "source": [
    "plt.imshow(ds1.vars[\"DivEB\"]['val'][:, :, 10].T, origin=\"lower left\")"
   ]
  },
  {
   "cell_type": "code",
   "execution_count": 7,
   "metadata": {},
   "outputs": [
    {
     "data": {
      "text/plain": [
       "<matplotlib.colorbar.Colorbar at 0x7f572304a890>"
      ]
     },
     "execution_count": 7,
     "metadata": {},
     "output_type": "execute_result"
    }
   ],
   "source": [
    "plt.colorbar()"
   ]
  }
 ],
 "metadata": {
  "kernelspec": {
   "display_name": "Python 3",
   "language": "python",
   "name": "python3"
  },
  "language_info": {
   "codemirror_mode": {
    "name": "ipython",
    "version": 3
   },
   "file_extension": ".py",
   "mimetype": "text/x-python",
   "name": "python",
   "nbconvert_exporter": "python",
   "pygments_lexer": "ipython3",
   "version": "3.7.7"
  }
 },
 "nbformat": 4,
 "nbformat_minor": 4
}